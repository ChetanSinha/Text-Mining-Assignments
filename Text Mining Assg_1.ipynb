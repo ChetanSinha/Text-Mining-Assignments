{
 "cells": [
  {
   "cell_type": "markdown",
   "metadata": {},
   "source": [
    "---\n",
    "\n",
    "_You are currently looking at **version 1.1** of this notebook. To download notebooks and datafiles, as well as get help on Jupyter notebooks in the Coursera platform, visit the [Jupyter Notebook FAQ](https://www.coursera.org/learn/python-text-mining/resources/d9pwm) course resource._\n",
    "\n",
    "---"
   ]
  },
  {
   "cell_type": "markdown",
   "metadata": {},
   "source": [
    "# Assignment 1\n",
    "\n",
    "In this assignment, you'll be working with messy medical data and using regex to extract relevant infromation from the data. \n",
    "\n",
    "Each line of the `dates.txt` file corresponds to a medical note. Each note has a date that needs to be extracted, but each date is encoded in one of many formats.\n",
    "\n",
    "The goal of this assignment is to correctly identify all of the different date variants encoded in this dataset and to properly normalize and sort the dates. \n",
    "\n",
    "Here is a list of some of the variants you might encounter in this dataset:\n",
    "* 04/20/2009; 04/20/09; 4/20/09; 4/3/09\n",
    "* Mar-20-2009; Mar 20, 2009; March 20, 2009;  Mar. 20, 2009; Mar 20 2009;\n",
    "* 20 Mar 2009; 20 March 2009; 20 Mar. 2009; 20 March, 2009\n",
    "* Mar 20th, 2009; Mar 21st, 2009; Mar 22nd, 2009\n",
    "* Feb 2009; Sep 2009; Oct 2010\n",
    "* 6/2008; 12/2009\n",
    "* 2009; 2010\n",
    "\n",
    "Once you have extracted these date patterns from the text, the next step is to sort them in ascending chronological order accoring to the following rules:\n",
    "* Assume all dates in xx/xx/xx format are mm/dd/yy\n",
    "* Assume all dates where year is encoded in only two digits are years from the 1900's (e.g. 1/5/89 is January 5th, 1989)\n",
    "* If the day is missing (e.g. 9/2009), assume it is the first day of the month (e.g. September 1, 2009).\n",
    "* If the month is missing (e.g. 2010), assume it is the first of January of that year (e.g. January 1, 2010).\n",
    "* Watch out for potential typos as this is a raw, real-life derived dataset.\n",
    "\n",
    "With these rules in mind, find the correct date in each note and return a pandas Series in chronological order of the original Series' indices.\n",
    "\n",
    "For example if the original series was this:\n",
    "\n",
    "    0    1999\n",
    "    1    2010\n",
    "    2    1978\n",
    "    3    2015\n",
    "    4    1985\n",
    "\n",
    "Your function should return this:\n",
    "\n",
    "    0    2\n",
    "    1    4\n",
    "    2    0\n",
    "    3    1\n",
    "    4    3\n",
    "\n",
    "Your score will be calculated using [Kendall's tau](https://en.wikipedia.org/wiki/Kendall_rank_correlation_coefficient), a correlation measure for ordinal data.\n",
    "\n",
    "*This function should return a Series of length 500 and dtype int.*"
   ]
  },
  {
   "cell_type": "code",
   "execution_count": 1,
   "metadata": {},
   "outputs": [
    {
     "data": {
      "text/plain": [
       "490                                  Lab: B12 969 2007\\n\n",
       "491                                   )and 8mo in 2009\\n\n",
       "492    .Moved to USA in 1986. Suffered from malnutrit...\n",
       "493                                              r1978\\n\n",
       "494    . Went to Emerson, in Newfane Alaska. Started ...\n",
       "495    1979 Family Psych History: Family History of S...\n",
       "496    therapist and friend died in ~2006 Parental/Ca...\n",
       "497                         2008 partial thyroidectomy\\n\n",
       "498    sPt describes a history of sexual abuse as a c...\n",
       "499    . In 1980, patient was living in Naples and de...\n",
       "dtype: object"
      ]
     },
     "execution_count": 1,
     "metadata": {},
     "output_type": "execute_result"
    }
   ],
   "source": [
    "import pandas as pd\n",
    "\n",
    "doc = []\n",
    "with open('dates.txt') as file:\n",
    "    for line in file:\n",
    "        doc.append(line)\n",
    "\n",
    "df = pd.Series(doc)\n",
    "df.tail(10)"
   ]
  },
  {
   "cell_type": "code",
   "execution_count": 2,
   "metadata": {
    "collapsed": true
   },
   "outputs": [],
   "source": [
    "def completeMonthName(month):\n",
    "    if month == \"Jan\":\n",
    "        return \"1\"\n",
    "    elif month == \"Feb\":\n",
    "        return \"2\"\n",
    "    elif month == \"Mar\":\n",
    "        return \"3\"\n",
    "    elif month == \"Apr\":\n",
    "        return \"4\"\n",
    "    elif month == \"May\":\n",
    "        return \"5\"\n",
    "    elif month == \"Jun\":\n",
    "        return \"6\"\n",
    "    elif month == \"Jul\":\n",
    "        return \"7\"\n",
    "    elif month == \"Aug\":\n",
    "        return \"8\"\n",
    "    elif month == \"Sep\":\n",
    "        return \"9\"\n",
    "    elif month == \"Oct\":\n",
    "        return \"10\"\n",
    "    elif month == \"Nov\":\n",
    "        return \"11\"\n",
    "    elif month == \"Dec\":\n",
    "        return \"12\""
   ]
  },
  {
   "cell_type": "code",
   "execution_count": 3,
   "metadata": {
    "collapsed": true
   },
   "outputs": [],
   "source": [
    "def data_preprocess(dates):\n",
    "    \n",
    "    # list to hold the formatted dates\n",
    "    formatted_dates = []\n",
    "    \n",
    "    for date in (dates):\n",
    "        flag = 0\n",
    "        date = date.strip()\n",
    "        # split the dates acc. to the joiners present\n",
    "        for char in ['/', '-', ' ']:\n",
    "            if date.split(char)[0] == date:\n",
    "                # if char type of joiner is not present in this date\n",
    "                continue\n",
    "            else:\n",
    "                lst = date.split(char)\n",
    "                if lst[0][0].isdigit():\n",
    "                    # check if the date is month preceding or date\n",
    "                    if len(lst) == 3:\n",
    "                        #check if day number is present in the date or not\n",
    "                        if lst[1][0].isdigit():\n",
    "                            #check if the middle term in the date given is month or day\n",
    "                            day, month, year = lst[1], lst[0].strip('.').strip(','), lst[2]\n",
    "                        else:\n",
    "                            day, month, year = lst[0], lst[1].strip('.').strip(','), lst[2]\n",
    "\n",
    "                    elif len(lst) == 2:\n",
    "                        day, month, year = '1', lst[0].strip('.').strip(','), lst[1]\n",
    "\n",
    "                else:\n",
    "                    if len(lst) == 3:\n",
    "                        if len(lst[1]) > 3:\n",
    "                            # handles the superscript part of a day i.e th, nd, st\n",
    "                            lst[1] = lst[1].strip(',')[:-2]\n",
    "\n",
    "                        day, month, year = lst[1].strip(','), lst[0].strip('.'), lst[2]\n",
    "\n",
    "                    elif len(lst) == 2:\n",
    "                        day, month, year = '1', lst[0].strip('.'), lst[1]\n",
    "                flag = 1\n",
    "            \n",
    "        if not flag:\n",
    "            # checks if only year is provided\n",
    "            day, month, year = '1', '1', date\n",
    "        \n",
    "        if not month[0].isdigit():\n",
    "            # converts month in string to numeric\n",
    "            month = completeMonthName(month[:3])\n",
    "        if int(month) > 12:\n",
    "            return False\n",
    "        \n",
    "        if len(year) == 2:\n",
    "            year = '19' + year\n",
    "        lst = [year, month, day]\n",
    "        formatted_dates.append(\"/\".join(lst))\n",
    "    return formatted_dates"
   ]
  },
  {
   "cell_type": "code",
   "execution_count": 14,
   "metadata": {
    "collapsed": true
   },
   "outputs": [],
   "source": [
    "def date_sorter():\n",
    "    \n",
    "    # Your code here\n",
    "    one = df.str.extract(r'((?:\\d{1,2})(?:(?:/|-)\\d{1,2})(?:(?:/|-)\\d{2,4}))')\n",
    "    \n",
    "    two = df.str.extract(r'((?:\\d{,2}\\s)?(?:Jan|Feb|Mar|Apr|May|Jun|Jul|Aug|Sep|Oct|Nov|Dec)[a-z]*(?:-|\\.|\\s|,)\\s?\\d{,2}[a-z]*(?:-|,|\\s)?\\s?\\d{2,4})')\n",
    "    \n",
    "    three = df.str.extract(r'((?:\\d{1,2}(?:-|/))?(?:19|20)\\d{2})')\n",
    "    \n",
    "    dates = one.fillna(two).fillna(three)\n",
    "    \n",
    "    date = list(dates)\n",
    "    #preprocessing and cleaning data\n",
    "    dates = data_preprocess(date)\n",
    "    #data returned in the required format\n",
    "    \n",
    "    #(IMP) sort the date to year, month, day accordingly and returning the index from the sorted object.\n",
    "    dates_index = [date[0] for date in sorted(enumerate(dates), key=lambda x: (int(x[1].split('/')[0]),int(x[1].split('/')[1]), int(x[1].split('/')[2])))]\n",
    "    \n",
    "    #converting list into pandas series\n",
    "    dates_index = pd.Series(dates_index)\n",
    "    \n",
    "    return dates_index"
   ]
  }
 ],
 "metadata": {
  "coursera": {
   "course_slug": "python-text-mining",
   "graded_item_id": "LvcWI",
   "launcher_item_id": "krne9",
   "part_id": "Mkp1I"
  },
  "kernelspec": {
   "display_name": "Python 3",
   "language": "python",
   "name": "python3"
  },
  "language_info": {
   "codemirror_mode": {
    "name": "ipython",
    "version": 3
   },
   "file_extension": ".py",
   "mimetype": "text/x-python",
   "name": "python",
   "nbconvert_exporter": "python",
   "pygments_lexer": "ipython3",
   "version": "3.7.4"
  }
 },
 "nbformat": 4,
 "nbformat_minor": 2
}
